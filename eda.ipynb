{
 "cells": [
  {
   "cell_type": "code",
   "execution_count": 7,
   "metadata": {},
   "outputs": [
    {
     "name": "stdout",
     "output_type": "stream",
     "text": [
      "Error: 404\n",
      "<!doctype html><html lang=\"en\"><head><title>HTTP Status 404 ? Not Found</title><style type=\"text/css\">body {font-family:Tahoma,Arial,sans-serif;} h1, h2, h3, b {color:white;background-color:#525D76;} h1 {font-size:22px;} h2 {font-size:16px;} h3 {font-size:14px;} p {font-size:12px;} a {color:black;} .line {height:1px;background-color:#525D76;border:none;}</style></head><body><h1>HTTP Status 404 ? Not Found</h1></body></html>\n"
     ]
    }
   ],
   "source": [
    "import requests\n",
    "\n",
    "def fetch_census_data(api_key, endpoint, params):\n",
    "    base_url = \"https://api.census.gov/data/2020/dec\"\n",
    "    \n",
    "    # Add the API key to the parameters\n",
    "    params['key'] = api_key\n",
    "\n",
    "    # Make the request\n",
    "    response = requests.get(f\"{base_url}/{endpoint}\", params=params)\n",
    "\n",
    "    # Check the response status\n",
    "    if response.status_code != 200:\n",
    "        print(f\"Error: {response.status_code}\")\n",
    "        print(response.text)\n",
    "        return None\n",
    "\n",
    "    return response.json()\n",
    "\n",
    "if __name__ == \"__main__\":\n",
    "    from config import API_KEY\n",
    "    ENDPOINT = \"P1\"  # Adjusted to uppercase\n",
    "    PARAMS = {\n",
    "        \"get\": \"NAME, POP\",  # Columns or fields you want to retrieve\n",
    "        \"for\": \"state:*\"  # Geographic filters or other conditions\n",
    "    }\n",
    "\n",
    "    data = fetch_census_data(API_KEY, ENDPOINT, PARAMS)\n",
    "    if data:\n",
    "        for row in data:\n",
    "            print(row)\n"
   ]
  }
 ],
 "metadata": {
  "kernelspec": {
   "display_name": "venv",
   "language": "python",
   "name": "python3"
  },
  "language_info": {
   "codemirror_mode": {
    "name": "ipython",
    "version": 3
   },
   "file_extension": ".py",
   "mimetype": "text/x-python",
   "name": "python",
   "nbconvert_exporter": "python",
   "pygments_lexer": "ipython3",
   "version": "3.11.1"
  },
  "orig_nbformat": 4
 },
 "nbformat": 4,
 "nbformat_minor": 2
}
